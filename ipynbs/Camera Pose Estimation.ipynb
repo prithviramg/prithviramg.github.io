{
 "cells": [
  {
   "cell_type": "markdown",
   "id": "scenic-fifteen",
   "metadata": {},
   "source": [
    "# Camera Pose Estimation (Perspective 3 Point)\n",
    "<hr style=\"border:3px solid red\"> </hr>"
   ]
  },
  {
   "cell_type": "markdown",
   "id": "increasing-white",
   "metadata": {},
   "source": [
    "&nbsp;&nbsp;&nbsp;&nbsp;&nbsp;&nbsp; In this post we'll see about **Spatial Resectioning / Perspective 3 point algorithm**, so the goal of the algorithm is to estimate the position of the camera, which observes the known scene, so we assume to couple of points in the environment or we know their full 3D location and then we can estimate where the camera is placed in 3D location (where is projection center of the camera and where the camera is pointing to). To estimate these elements we need atleast 3 control points present in the 3D environment, we can estimate the rotation matrix and translation matrix of the camera.\n",
    "- Given : 3D coordinates of object points $X_i$\n",
    "- Observed : 2D image coordinates $x_i$ of the object points\n",
    "- wanted : Extrinsic parameter $R$, $X_0$ of the calibrated camera\n",
    "\n",
    "<span style=\"color:red\">**Important assumption is that we need to have a calibrated camera or we need to know the Intrisic parameters of the camera**</span>."
   ]
  },
  {
   "cell_type": "markdown",
   "id": "historical-hunter",
   "metadata": {},
   "source": []
  },
  {
   "cell_type": "markdown",
   "id": "banner-syndication",
   "metadata": {},
   "source": []
  },
  {
   "cell_type": "markdown",
   "id": "vocal-latvia",
   "metadata": {},
   "source": []
  },
  {
   "cell_type": "markdown",
   "id": "promotional-accommodation",
   "metadata": {},
   "source": []
  },
  {
   "cell_type": "markdown",
   "id": "casual-baseline",
   "metadata": {},
   "source": []
  },
  {
   "cell_type": "markdown",
   "id": "unauthorized-office",
   "metadata": {},
   "source": [
    "#### Salutations\n",
    "1. [Photogrammetric Computer Vision: Statistics, Geometry, Orientation and Reconstruction, by  Wolfgang Förstner , Bernhard P. Wrobel](https://www.amazon.in/Photogrammetric-Computer-Vision-Orientation-Reconstruction-ebook/dp/B01LXFI2XF)\n",
    "2. [Multiple View Geometry in Computer Vision (Second Edition), by Andrew Zisserman](https://www.amazon.in/Multiple-View-Geometry-Computer-Vision/dp/0521540518)"
   ]
  },
  {
   "cell_type": "code",
   "execution_count": null,
   "id": "million-commission",
   "metadata": {},
   "outputs": [],
   "source": []
  }
 ],
 "metadata": {
  "kernelspec": {
   "display_name": "Python 3",
   "language": "python",
   "name": "python3"
  },
  "language_info": {
   "codemirror_mode": {
    "name": "ipython",
    "version": 3
   },
   "file_extension": ".py",
   "mimetype": "text/x-python",
   "name": "python",
   "nbconvert_exporter": "python",
   "pygments_lexer": "ipython3",
   "version": "3.9.2"
  }
 },
 "nbformat": 4,
 "nbformat_minor": 5
}
